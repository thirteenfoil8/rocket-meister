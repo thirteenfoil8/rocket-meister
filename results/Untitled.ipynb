{
 "cells": [
  {
   "cell_type": "code",
   "execution_count": 1,
   "id": "6f82c4dc",
   "metadata": {},
   "outputs": [],
   "source": [
    "import pandas as pd\n",
    "import glob\n",
    "\n",
    "path = r'C:\\Users\\flori\\OneDrive\\Documents\\Logitech\\tests\\rocket-meister\\results' # use your path\n",
    "all_files = glob.glob(path + \"/*.csv\")\n",
    "\n",
    "li = []\n",
    "\n",
    "for filename in all_files:\n",
    "    df = pd.read_csv(filename, index_col=None, header=0)\n",
    "    li.append(df)\n",
    "\n",
    "df = pd.concat(li, axis=0, ignore_index=True)"
   ]
  },
  {
   "cell_type": "code",
   "execution_count": 2,
   "id": "e69fd9dc",
   "metadata": {},
   "outputs": [
    {
     "data": {
      "text/html": [
       "<div>\n",
       "<style scoped>\n",
       "    .dataframe tbody tr th:only-of-type {\n",
       "        vertical-align: middle;\n",
       "    }\n",
       "\n",
       "    .dataframe tbody tr th {\n",
       "        vertical-align: top;\n",
       "    }\n",
       "\n",
       "    .dataframe thead th {\n",
       "        text-align: right;\n",
       "    }\n",
       "</style>\n",
       "<table border=\"1\" class=\"dataframe\">\n",
       "  <thead>\n",
       "    <tr style=\"text-align: right;\">\n",
       "      <th></th>\n",
       "      <th>Wall time</th>\n",
       "      <th>Step</th>\n",
       "      <th>Value</th>\n",
       "    </tr>\n",
       "  </thead>\n",
       "  <tbody>\n",
       "    <tr>\n",
       "      <th>0</th>\n",
       "      <td>1.634040e+09</td>\n",
       "      <td>9</td>\n",
       "      <td>-1.602587</td>\n",
       "    </tr>\n",
       "    <tr>\n",
       "      <th>1</th>\n",
       "      <td>1.634040e+09</td>\n",
       "      <td>19</td>\n",
       "      <td>4.151591</td>\n",
       "    </tr>\n",
       "    <tr>\n",
       "      <th>2</th>\n",
       "      <td>1.634040e+09</td>\n",
       "      <td>29</td>\n",
       "      <td>4.151591</td>\n",
       "    </tr>\n",
       "    <tr>\n",
       "      <th>3</th>\n",
       "      <td>1.634040e+09</td>\n",
       "      <td>39</td>\n",
       "      <td>4.151591</td>\n",
       "    </tr>\n",
       "    <tr>\n",
       "      <th>4</th>\n",
       "      <td>1.634040e+09</td>\n",
       "      <td>49</td>\n",
       "      <td>4.930048</td>\n",
       "    </tr>\n",
       "    <tr>\n",
       "      <th>...</th>\n",
       "      <td>...</td>\n",
       "      <td>...</td>\n",
       "      <td>...</td>\n",
       "    </tr>\n",
       "    <tr>\n",
       "      <th>3091</th>\n",
       "      <td>1.634195e+09</td>\n",
       "      <td>54229</td>\n",
       "      <td>36.669235</td>\n",
       "    </tr>\n",
       "    <tr>\n",
       "      <th>3092</th>\n",
       "      <td>1.634195e+09</td>\n",
       "      <td>54239</td>\n",
       "      <td>36.669235</td>\n",
       "    </tr>\n",
       "    <tr>\n",
       "      <th>3093</th>\n",
       "      <td>1.634195e+09</td>\n",
       "      <td>54249</td>\n",
       "      <td>39.317085</td>\n",
       "    </tr>\n",
       "    <tr>\n",
       "      <th>3094</th>\n",
       "      <td>1.634195e+09</td>\n",
       "      <td>54259</td>\n",
       "      <td>36.946262</td>\n",
       "    </tr>\n",
       "    <tr>\n",
       "      <th>3095</th>\n",
       "      <td>1.634195e+09</td>\n",
       "      <td>54269</td>\n",
       "      <td>36.946262</td>\n",
       "    </tr>\n",
       "  </tbody>\n",
       "</table>\n",
       "<p>3096 rows × 3 columns</p>\n",
       "</div>"
      ],
      "text/plain": [
       "         Wall time   Step      Value\n",
       "0     1.634040e+09      9  -1.602587\n",
       "1     1.634040e+09     19   4.151591\n",
       "2     1.634040e+09     29   4.151591\n",
       "3     1.634040e+09     39   4.151591\n",
       "4     1.634040e+09     49   4.930048\n",
       "...            ...    ...        ...\n",
       "3091  1.634195e+09  54229  36.669235\n",
       "3092  1.634195e+09  54239  36.669235\n",
       "3093  1.634195e+09  54249  39.317085\n",
       "3094  1.634195e+09  54259  36.946262\n",
       "3095  1.634195e+09  54269  36.946262\n",
       "\n",
       "[3096 rows x 3 columns]"
      ]
     },
     "execution_count": 2,
     "metadata": {},
     "output_type": "execute_result"
    }
   ],
   "source": [
    "df"
   ]
  },
  {
   "cell_type": "code",
   "execution_count": 3,
   "id": "afc7390b",
   "metadata": {},
   "outputs": [
    {
     "data": {
      "image/png": "[encoded data removed]",
      "text/plain": [
       "<Figure size 432x288 with 1 Axes>"
      ]
     },
     "metadata": {
      "needs_background": "light"
     },
     "output_type": "display_data"
    },
    {
     "data": {
      "image/png": "[encoded data removed]",
      "text/plain": [
       "<Figure size 432x288 with 1 Axes>"
      ]
     },
     "metadata": {
      "needs_background": "light"
     },
     "output_type": "display_data"
    }
   ],
   "source": [
    "import matplotlib.pyplot as plt\n",
    "ax = plt.gca()\n",
    "df.plot(kind='line',x='Step',y='Value',ax=ax)\n",
    "import numpy as np\n",
    "\n",
    "y_p = np.diff(df['Value']) / np.diff(df['Step'])\n",
    "x_p = (np.array(df['Step'])[:-1] + np.array(df['Step'])[1:]) / 2\n",
    "\n",
    "plt.figure()\n",
    "plt.plot(x_p,y_p, 'r',label='Derivative')\n",
    "plt.legend()\n",
    "plt.show()"
   ]
  },
  {
   "cell_type": "code",
   "execution_count": 28,
   "id": "e76e118e",
   "metadata": {},
   "outputs": [],
   "source": []
  },
  {
   "cell_type": "code",
   "execution_count": 34,
   "id": "44ef4ed6",
   "metadata": {},
   "outputs": [],
   "source": [
    "slope = pd.Series(np.gradient(df.Value), df.Step, name='slope')"
   ]
  },
  {
   "cell_type": "code",
   "execution_count": null,
   "id": "a83b6df3",
   "metadata": {},
   "outputs": [],
   "source": []
  }
 ],
 "metadata": {
  "kernelspec": {
   "display_name": "Python 3 (ipykernel)",
   "language": "python",
   "name": "python3"
  },
  "language_info": {
   "codemirror_mode": {
    "name": "ipython",
    "version": 3
   },
   "file_extension": ".py",
   "mimetype": "text/x-python",
   "name": "python",
   "nbconvert_exporter": "python",
   "pygments_lexer": "ipython3",
   "version": "3.9.7"
  }
 },
 "nbformat": 4,
 "nbformat_minor": 5
}
